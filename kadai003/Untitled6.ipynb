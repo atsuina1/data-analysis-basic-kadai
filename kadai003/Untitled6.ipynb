{
  "nbformat": 4,
  "nbformat_minor": 0,
  "metadata": {
    "colab": {
      "provenance": []
    },
    "kernelspec": {
      "name": "python3",
      "display_name": "Python 3"
    },
    "language_info": {
      "name": "python"
    }
  },
  "cells": [
    {
      "cell_type": "code",
      "execution_count": 2,
      "metadata": {
        "colab": {
          "base_uri": "https://localhost:8080/"
        },
        "id": "5h2ZFp95Dkur",
        "outputId": "44da6c10-3e11-4a1f-b855-9431d4c1f519"
      },
      "outputs": [
        {
          "output_type": "stream",
          "name": "stdout",
          "text": [
            "行列A:\n",
            "[[0 1]\n",
            " [2 3]\n",
            " [4 5]]\n",
            "行列B:\n",
            "[[0 1 2 3]\n",
            " [4 5 6 7]]\n",
            "行列C（AとBの積）:\n",
            "[[ 4  5  6  7]\n",
            " [12 17 22 27]\n",
            " [20 29 38 47]]\n",
            "行列Cの要素の最大値: 47\n"
          ]
        }
      ],
      "source": [
        "# numpyの読み込み\n",
        "import numpy as np\n",
        "\n",
        "# 行列AとBを定義\n",
        "A = np.array([[0, 1], [2, 3], [4, 5]])\n",
        "B = np.array([[0, 1, 2, 3], [4, 5, 6, 7]])\n",
        "\n",
        "# 行列の積を計算\n",
        "C = np.dot(A, B)\n",
        "\n",
        "# 計算結果を表示\n",
        "print(\"行列A:\")\n",
        "print(A)\n",
        "print(\"行列B:\")\n",
        "print(B)\n",
        "print(\"行列C（AとBの積）:\")\n",
        "print(C)\n",
        "\n",
        "# 行列Cの要素の最大値を求める\n",
        "max_value = np.max(C)\n",
        "\n",
        "# 最大値を表示\n",
        "print(\"行列Cの要素の最大値:\", max_value)"
      ]
    },
    {
      "cell_type": "code",
      "source": [],
      "metadata": {
        "id": "NFia0Z7EEtRR"
      },
      "execution_count": null,
      "outputs": []
    }
  ]
}